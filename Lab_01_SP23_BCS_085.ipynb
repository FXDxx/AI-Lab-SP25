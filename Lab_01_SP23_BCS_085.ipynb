{
  "nbformat": 4,
  "nbformat_minor": 0,
  "metadata": {
    "colab": {
      "provenance": [],
      "collapsed_sections": [
        "VUR-8YuHymLi",
        "OyB-3CxvzCT7",
        "ulQ8WScAz1Vr",
        "UWN8svMO17r7",
        "j22q4z6w2yjd",
        "Kqp822QZ3tz5",
        "G2dRgVpdAPNB",
        "s0XSRjlC-g_y",
        "BCaquV25ACUK",
        "rY4Ku6DHDRPn",
        "eWi3_MaHG3gG"
      ]
    },
    "kernelspec": {
      "name": "python3",
      "display_name": "Python 3"
    },
    "language_info": {
      "name": "python"
    }
  },
  "cells": [
    {
      "cell_type": "markdown",
      "source": [
        "# Activity 1\n",
        "\n"
      ],
      "metadata": {
        "id": "VUR-8YuHymLi"
      }
    },
    {
      "cell_type": "code",
      "source": [
        "num = input (\"enter any number\")\n",
        "if int(num) % 2 == 0:\n",
        "  print(\"number is even\")\n",
        "else:\n",
        "  print(\"number is odd\")"
      ],
      "metadata": {
        "colab": {
          "base_uri": "https://localhost:8080/"
        },
        "id": "9IYXdByRy146",
        "outputId": "3354b5bc-926b-4977-d0c7-18e83881a5b1"
      },
      "execution_count": 3,
      "outputs": [
        {
          "output_type": "stream",
          "name": "stdout",
          "text": [
            "enter any number6\n",
            "number is even\n"
          ]
        }
      ]
    },
    {
      "cell_type": "markdown",
      "source": [
        "# Activity 2"
      ],
      "metadata": {
        "id": "OyB-3CxvzCT7"
      }
    },
    {
      "cell_type": "code",
      "source": [
        "sum = 0\n",
        "n = input(\"ENter number: \")\n",
        "\n",
        "n = int(n)\n",
        "\n",
        "while n != 0:\n",
        "  sum = sum+n\n",
        "  n = input(\"enter number\")\n",
        "  n = int(n)\n",
        "print(sum)"
      ],
      "metadata": {
        "colab": {
          "base_uri": "https://localhost:8080/"
        },
        "id": "eNpKk-9yzFsc",
        "outputId": "5ab034e1-4d72-4568-ed3c-f9f366c9880f"
      },
      "execution_count": 5,
      "outputs": [
        {
          "output_type": "stream",
          "name": "stdout",
          "text": [
            "ENter number: 6\n",
            "enter number7\n",
            "enter number0\n",
            "13\n"
          ]
        }
      ]
    },
    {
      "cell_type": "markdown",
      "source": [
        "# Activity 3"
      ],
      "metadata": {
        "id": "ulQ8WScAz1Vr"
      }
    },
    {
      "cell_type": "code",
      "source": [
        "'''Write a Python code to accept an integer value from user and check that whether the given value is\n",
        "prime number or not.'''\n",
        "\n",
        "num = int(input(\"Enter number: \"))\n",
        "\n",
        "i = 2\n",
        "\n",
        "for num in range(0, 100):\n",
        "  if num % i == 0:\n",
        "    print(\"number is prime\")\n",
        "    break\n",
        "  else:\n",
        "    print(\"number is not prime\")\n",
        "    break"
      ],
      "metadata": {
        "colab": {
          "base_uri": "https://localhost:8080/"
        },
        "id": "vfmkRrYP1jWh",
        "outputId": "7bf70bb4-5669-470c-9f3c-236ac62921a1"
      },
      "execution_count": 1,
      "outputs": [
        {
          "output_type": "stream",
          "name": "stdout",
          "text": [
            "Enter number: 6\n",
            "number is prime\n"
          ]
        }
      ]
    },
    {
      "cell_type": "markdown",
      "source": [
        "# Activity 4"
      ],
      "metadata": {
        "id": "UWN8svMO17r7"
      }
    },
    {
      "cell_type": "code",
      "source": [
        "'''Accept 5 integer values from user and display their sum. Draw flowchart before\n",
        "coding in python.'''\n",
        "sum = 0\n",
        "i = 0\n",
        "\n",
        "for i in range(0, 5):\n",
        "  num = int(input(\"Enter number: \"))\n",
        "  sum = sum+num\n",
        "  i = 3i+1\n",
        "\n",
        "print(sum)"
      ],
      "metadata": {
        "colab": {
          "base_uri": "https://localhost:8080/"
        },
        "id": "r1D_PcDQ1-A8",
        "outputId": "0f9be730-0523-4203-c642-b8d4f19d4740"
      },
      "execution_count": 2,
      "outputs": [
        {
          "output_type": "stream",
          "name": "stdout",
          "text": [
            "Enter number: 2\n",
            "Enter number: 3\n",
            "Enter number: 4\n",
            "Enter number: 5\n",
            "Enter number: 7\n",
            "21\n"
          ]
        }
      ]
    },
    {
      "cell_type": "markdown",
      "source": [
        "# Activity 5\n"
      ],
      "metadata": {
        "id": "j22q4z6w2yjd"
      }
    },
    {
      "cell_type": "code",
      "source": [
        "'''Calculate the sum of all the values between 0-10 using while loop.'''\n",
        "\n",
        "i = 0\n",
        "sum = 0\n",
        "while i <= 10:\n",
        "  sum = sum+i\n",
        "  i = i+1\n",
        "\n",
        "print(sum)"
      ],
      "metadata": {
        "colab": {
          "base_uri": "https://localhost:8080/"
        },
        "id": "Q2vfXiHQ20tm",
        "outputId": "dcb675f1-f446-4bb2-f514-077d314c796e"
      },
      "execution_count": 3,
      "outputs": [
        {
          "output_type": "stream",
          "name": "stdout",
          "text": [
            "55\n"
          ]
        }
      ]
    },
    {
      "cell_type": "markdown",
      "source": [
        "# Activity 7"
      ],
      "metadata": {
        "id": "Kqp822QZ3tz5"
      }
    },
    {
      "cell_type": "code",
      "source": [
        "import random\n",
        "\n",
        "max = 9\n",
        "min = 1\n",
        "number = random.randint(min, max)\n",
        "guess = None\n",
        "another = None\n",
        "Try = 0\n",
        "running = True\n",
        "\n",
        "print(\"Let's start\")\n",
        "\n",
        "while running:\n",
        "  guess = int(input(\"Guess the number\"))\n",
        "  if guess < number:\n",
        "    print(\"too low\")\n",
        "  elif guess > number:\n",
        "    print(\"too high\")\n",
        "  #elif guess.lower() == 'exit':\n",
        "   # print(\"better uck next time\")\n",
        "  elif guess == number:\n",
        "    print(\"WOw, you guessed right\")\n",
        "    if Try < 2:\n",
        "      print(\"Nice you guused earlier\")\n",
        "    elif Try > 2 and Try < 10:\n",
        "      print(\"good good\")\n",
        "    else:\n",
        "      print(\"very bad\")\n",
        "    running = False\n",
        "  Try = Try+1"
      ],
      "metadata": {
        "colab": {
          "base_uri": "https://localhost:8080/"
        },
        "id": "vpwSYwHX3v0p",
        "outputId": "13f0d9cc-fa24-494a-cfe6-858d8cf30558"
      },
      "execution_count": 7,
      "outputs": [
        {
          "output_type": "stream",
          "name": "stdout",
          "text": [
            "Let's start\n",
            "Guess the number4\n",
            "too high\n",
            "Guess the number3\n",
            "too high\n",
            "Guess the number1\n",
            "WOw, you guessed right\n",
            "very bad\n"
          ]
        }
      ]
    },
    {
      "cell_type": "markdown",
      "source": [
        "# Lab Task 1\n"
      ],
      "metadata": {
        "id": "G2dRgVpdAPNB"
      }
    },
    {
      "cell_type": "code",
      "source": [
        "'''Write a program that prompts the user to input an integer and then outputs the number with the digits\n",
        "reversed. For example, if the input is 12345, the output should be 54321.'''\n",
        "\n",
        "num = []\n",
        "i = 0\n",
        "for i in range(i, 5):\n",
        "  number = int(input(\"Enter number\"))\n",
        "  num.append(number)\n",
        "\n",
        "for n in reversed(num):\n",
        "  print(n)\n",
        "\n",
        "\n",
        "\n",
        "\n",
        "\n",
        "\n",
        "\n",
        "\n"
      ],
      "metadata": {
        "colab": {
          "base_uri": "https://localhost:8080/"
        },
        "id": "qdjQZI3fARYx",
        "outputId": "7d2035fa-2698-467a-ac7d-ccb37b727036"
      },
      "execution_count": 16,
      "outputs": [
        {
          "output_type": "stream",
          "name": "stdout",
          "text": [
            "Enter number1\n",
            "Enter number2\n",
            "Enter number3\n",
            "Enter number4\n",
            "Enter number5\n",
            "5\n",
            "4\n",
            "3\n",
            "2\n",
            "1\n"
          ]
        }
      ]
    },
    {
      "cell_type": "markdown",
      "source": [
        "# Lab Task 2"
      ],
      "metadata": {
        "id": "s0XSRjlC-g_y"
      }
    },
    {
      "cell_type": "code",
      "source": [
        "'''Write a program that reads a set of integers, and then prints the sum of the even and odd integers.'''\n",
        "evensum = 0\n",
        "oddsum = 0\n",
        "list = [2, 1, 3, 4, 5, 3, 3, 2, 7]\n",
        "index = 0\n",
        "for list1 in list:\n",
        "  if list1 % 2 == 0:\n",
        "    evensum = evensum+list1\n",
        "    index = index+1\n",
        "  else:\n",
        "    oddsum = oddsum+list1\n",
        "print(evensum)\n",
        "print(oddsum)\n",
        "\n"
      ],
      "metadata": {
        "colab": {
          "base_uri": "https://localhost:8080/"
        },
        "id": "nmZyzTP5-jWD",
        "outputId": "642285eb-ca69-4be6-adaa-a8eef9605ce7"
      },
      "execution_count": 30,
      "outputs": [
        {
          "output_type": "stream",
          "name": "stdout",
          "text": [
            "8\n",
            "22\n"
          ]
        }
      ]
    },
    {
      "cell_type": "markdown",
      "source": [
        "# Lab Task 3\n"
      ],
      "metadata": {
        "id": "BCaquV25ACUK"
      }
    },
    {
      "cell_type": "code",
      "source": [
        "'''Fibonacci series is that when you add the previous two numbers the next number is formed. You have\n",
        "to start from 0 and 1.'''\n",
        "\n",
        "# Recursive\n",
        "def fibo(num):\n",
        "  if num <= 0:\n",
        "    return 0\n",
        "  elif num == 1:\n",
        "    return 1\n",
        "  else:\n",
        "    return fibo(num-1)+fibo(num-2)\n",
        "nums = int(input(\"Enter number\"))\n",
        "for i in range(nums):\n",
        "  print(fibo(i), end = \" \")\n",
        "\n"
      ],
      "metadata": {
        "colab": {
          "base_uri": "https://localhost:8080/"
        },
        "id": "nJ7srdBZFRuv",
        "outputId": "c6c7dbbf-b5f5-428e-977b-c368fb2fea73"
      },
      "execution_count": 32,
      "outputs": [
        {
          "output_type": "stream",
          "name": "stdout",
          "text": [
            "Enter number4\n",
            "0 1 1 2 "
          ]
        }
      ]
    },
    {
      "cell_type": "markdown",
      "source": [
        "Iterative\n"
      ],
      "metadata": {
        "id": "gh72uo0WEunr"
      }
    },
    {
      "cell_type": "code",
      "source": [
        "# Iterative\n",
        "num = [0, 1]\n",
        "i = 0\n",
        "j = 1\n",
        "k = 0\n",
        "for k in range(0, 10):\n",
        "  num.append(num[i]+num[j])\n",
        "  i = i+1\n",
        "  j = j+1\n",
        "\n",
        "print(num)"
      ],
      "metadata": {
        "colab": {
          "base_uri": "https://localhost:8080/"
        },
        "id": "yCf_b9uSExhG",
        "outputId": "792f1bdb-cc6d-41cf-dbd1-331ce7a7e151"
      },
      "execution_count": 34,
      "outputs": [
        {
          "output_type": "stream",
          "name": "stdout",
          "text": [
            "[0, 1, 1, 2, 3, 5, 8, 13, 21, 34, 55, 89]\n"
          ]
        }
      ]
    },
    {
      "cell_type": "markdown",
      "source": [
        "# Lab Task 4"
      ],
      "metadata": {
        "id": "rY4Ku6DHDRPn"
      }
    },
    {
      "cell_type": "code",
      "source": [
        "'''Write a Python code to accept marks of a student from 1-100 and display the grade according to the\n",
        "following formula.\n",
        "Grade F if marks are less than 50\n",
        "Grade E if marks are between 50 to 60\n",
        "Grade D if marks are between 61 to 70\n",
        "Grade C if marks are between 71 to 80\n",
        "Grade B if marks are between 81 to 90\n",
        "Grade A if marks are between 91 to 100'''\n",
        "\n",
        "\n",
        "marks = int(input(\"Enter student marks: \"))\n",
        "\n",
        "if marks < 50:\n",
        "  print(\"Grade: F\")\n",
        "elif marks >= 50 and marks <= 60:\n",
        "  print(\"Grade: E\")\n",
        "\n",
        "elif marks >= 61 and marks <= 70:\n",
        "  print(\"Grade: D\")\n",
        "\n",
        "elif marks >= 71 and marks <= 80:\n",
        "  print(\"Grade: C\")\n",
        "\n",
        "elif marks >= 81 and marks <= 90:\n",
        "  print(\"Grade: B\")\n",
        "\n",
        "elif marks >= 91 and marks <= 100:\n",
        "  print(\"Grade: A\")\n",
        "else:\n",
        "  print(\"Not gradable\")\n"
      ],
      "metadata": {
        "colab": {
          "base_uri": "https://localhost:8080/"
        },
        "id": "7YDXcIpNDT2S",
        "outputId": "249d39b1-71fe-401b-fd2b-5bf2199c102d"
      },
      "execution_count": 59,
      "outputs": [
        {
          "output_type": "stream",
          "name": "stdout",
          "text": [
            "Enter student marks: 78\n",
            "Grade: C\n"
          ]
        }
      ]
    },
    {
      "cell_type": "markdown",
      "source": [
        "# Lab Task 5"
      ],
      "metadata": {
        "id": "eWi3_MaHG3gG"
      }
    },
    {
      "cell_type": "code",
      "source": [
        "'''Write a program that takes a number from user and calculate the factorial of that number.'''\n",
        "number = int(input(\"Enter number: \"))\n",
        "num = []\n",
        "if number == 0 or number == 1:\n",
        "  print(\"1\")\n",
        "else:\n",
        "  product = 1\n",
        "  i = number\n",
        "  for number in range(number, 0, -1):\n",
        "    num.append(number)\n",
        "\n",
        "  for list1 in num:\n",
        "    product = product* list1\n",
        "  print(num)\n",
        "  print(product)\n",
        "\n",
        "\n",
        "\n"
      ],
      "metadata": {
        "colab": {
          "base_uri": "https://localhost:8080/"
        },
        "id": "DA2_7Dz_G6yO",
        "outputId": "b5893827-aea1-4a37-a9a3-cf6e8462c95a"
      },
      "execution_count": 11,
      "outputs": [
        {
          "output_type": "stream",
          "name": "stdout",
          "text": [
            "Enter number: 6\n",
            "[6, 5, 4, 3, 2, 1]\n",
            "720\n"
          ]
        }
      ]
    },
    {
      "cell_type": "markdown",
      "source": [
        "Recursive"
      ],
      "metadata": {
        "id": "6BEImIcNFTCj"
      }
    },
    {
      "cell_type": "code",
      "source": [
        "def factorial(n):\n",
        "  if n == 0 or n == 1:\n",
        "    return 1\n",
        "  return n*factorial(n-1)\n",
        "\n",
        "factorial(5)"
      ],
      "metadata": {
        "colab": {
          "base_uri": "https://localhost:8080/"
        },
        "id": "nmBJqhtRFUzs",
        "outputId": "85f21f24-0cb9-49fc-c652-5380cd94ed00"
      },
      "execution_count": 38,
      "outputs": [
        {
          "output_type": "execute_result",
          "data": {
            "text/plain": [
              "120"
            ]
          },
          "metadata": {},
          "execution_count": 38
        }
      ]
    }
  ]
}